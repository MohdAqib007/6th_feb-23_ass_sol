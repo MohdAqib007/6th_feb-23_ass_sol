{
 "cells": [
  {
   "cell_type": "code",
   "execution_count": 2,
   "id": "72de5036-5400-459f-a7ec-76762bd8f830",
   "metadata": {},
   "outputs": [
    {
     "name": "stdout",
     "output_type": "stream",
     "text": [
      "\n"
     ]
    }
   ],
   "source": [
    "def product_of_numbers(lst):\n",
    "    flat_lst = []\n",
    "    for item in lst:\n",
    "        if isinstance(item, list):\n",
    "            flat_lst.extend(item)\n",
    "        elif isinstance(item, dict):\n",
    "            flat_lst.extend([val for val in item.values() if isinstance(val, (int, float))])\n",
    "        elif isinstance(item, (int, float)):\n",
    "            flat_lst.append(item)\n",
    "    product = 1\n",
    "    for num in flat_lst:\n",
    "        product *= num\n",
    "    return product\n",
    "list1 = [1,2,3,4, [44,55,66, True], False, (34,56,78,89,34), {1,2,3,3,2,1}, {1:34, \"key2\": [55, 67, 78, 89], 4: (45, 22, 61, 34)}, [56, 'data science'], 'Machine Learning']\n",
    "result = product_of_numbers(list1)\n",
    "print(result)"
   ]
  },
  {
   "cell_type": "code",
   "execution_count": 1,
   "id": "e3d6339d-150f-4e9d-8601-b86ec95b5022",
   "metadata": {},
   "outputs": [
    {
     "name": "stdout",
     "output_type": "stream",
     "text": [
      "r$dzmg$gl$yvxlnv$z$wzgz$hxrvmgrhg.\n"
     ]
    }
   ],
   "source": [
    "#Q.2 Ans-\n",
    "def encrypt_message(message):\n",
    "    message = message.lower()\n",
    "    encrypted = \"\"\n",
    "    for char in message:\n",
    "        if char.isalpha():\n",
    "            encrypted += chr(ord('a') + ord('z') - ord(char))\n",
    "        elif char == ' ':\n",
    "            encrypted += '$'\n",
    "        else:\n",
    "            encrypted += char\n",
    "    return encrypted\n",
    "\n",
    "message = \"I want to become a Data Scientist.\"\n",
    "encrypted = encrypt_message(message)\n",
    "print(encrypted)\n"
   ]
  },
  {
   "cell_type": "code",
   "execution_count": null,
   "id": "6de8dc1e-9902-4e14-a1b3-b23f6673d23e",
   "metadata": {},
   "outputs": [],
   "source": []
  }
 ],
 "metadata": {
  "kernelspec": {
   "display_name": "Python 3 (ipykernel)",
   "language": "python",
   "name": "python3"
  },
  "language_info": {
   "codemirror_mode": {
    "name": "ipython",
    "version": 3
   },
   "file_extension": ".py",
   "mimetype": "text/x-python",
   "name": "python",
   "nbconvert_exporter": "python",
   "pygments_lexer": "ipython3",
   "version": "3.10.8"
  }
 },
 "nbformat": 4,
 "nbformat_minor": 5
}
